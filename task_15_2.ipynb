{
 "cells": [
  {
   "cell_type": "markdown",
   "id": "4e244f94",
   "metadata": {},
   "source": [
    "# Importing modules and input data"
   ]
  },
  {
   "cell_type": "code",
   "execution_count": 14,
   "id": "590db00f",
   "metadata": {},
   "outputs": [],
   "source": [
    "# manipulacja danymi\n",
    "import numpy as np\n",
    "import pandas as pd\n",
    "\n",
    "# wizualizacja\n",
    "import matplotlib.pyplot as plt\n",
    "\n",
    "# podział danych na zbiory treningowe/walidacyjne/testowe\n",
    "from sklearn.model_selection import train_test_split, GridSearchCV\n",
    "\n",
    "# budowa Pipeline\n",
    "from sklearn.pipeline import FeatureUnion, Pipeline\n",
    "from sklearn.base import BaseEstimator, TransformerMixin\n",
    "from sklearn.compose import ColumnTransformer\n",
    "\n",
    "# Preprocessing\n",
    "from sklearn.impute import SimpleImputer\n",
    "from sklearn.preprocessing import OneHotEncoder, StandardScaler, PolynomialFeatures, PowerTransformer\n",
    "\n",
    "# redukcja wymiarowości\n",
    "from sklearn.decomposition import PCA\n",
    "\n",
    "# model\n",
    "from sklearn.linear_model import LogisticRegression\n",
    "from sklearn.svm import SVC\n",
    "\n",
    "# ewaluacja\n",
    "from sklearn.metrics import classification_report, confusion_matrix, roc_curve, f1_score, roc_auc_score\n",
    "diabetes = pd.read_csv('diabetes.csv')"
   ]
  },
  {
   "cell_type": "markdown",
   "id": "a376a2a3",
   "metadata": {},
   "source": [
    "# Training, validation and test data set"
   ]
  },
  {
   "cell_type": "code",
   "execution_count": 15,
   "id": "5ccffbac",
   "metadata": {},
   "outputs": [],
   "source": [
    "num_features = ['Pregnancies','Age']\n",
    "target = 'Diabetic'\n",
    "X, y = diabetes[num_features], diabetes[target]\n",
    "\n",
    "X_train, X_test, y_train, y_test = train_test_split(X, y, test_size=0.20, random_state=0, stratify=y)\n",
    "X_train, X_val, y_train, y_val = train_test_split(X_train, y_train, test_size=0.25, random_state=0) "
   ]
  },
  {
   "cell_type": "markdown",
   "id": "4763fdc3",
   "metadata": {},
   "source": [
    "# Pipeline and evaluation"
   ]
  },
  {
   "cell_type": "code",
   "execution_count": 16,
   "id": "4fe7b415",
   "metadata": {},
   "outputs": [
    {
     "name": "stdout",
     "output_type": "stream",
     "text": [
      "Fitting 10 folds for each of 80 candidates, totalling 800 fits\n",
      "Wybrane hiperparametry:  {'model__C': 100.0, 'preprocessor__numeric_preprocessing__fill_missings__strategy': 'mean', 'preprocessor__numeric_preprocessing__pca__n_components': 0.85, 'preprocessor__numeric_preprocessing__polynomial_features__degree': 1}\n",
      "F1_score_test: 0.7928818586258033\n"
     ]
    }
   ],
   "source": [
    "# przygotowanie wartości numerycznych\n",
    "num_preparation = Pipeline(steps=[\n",
    "    ('fill_missings', SimpleImputer(strategy='mean')),\n",
    "    ('polynomial_features', PolynomialFeatures(degree=3)),\n",
    "    ('scaler_1', StandardScaler()),\n",
    "    ('pca', PCA(n_components=0.95)),\n",
    "    ('scaler_2', StandardScaler())\n",
    "])\n",
    "\n",
    "# transformer = wartości numeryczne \n",
    "data_preparation = ColumnTransformer(transformers=[\n",
    "    ('numeric_preprocessing', num_preparation, num_features)\n",
    "    \n",
    "])\n",
    "\n",
    "model_pipeline_v1 = Pipeline(steps=[('preprocessor', data_preparation),\n",
    "                                    ('model', SVC(kernel='rbf',probability=True))])\n",
    "model_pipeline_v1.fit(X_train, y_train)\n",
    "\n",
    "\n",
    "params = {\n",
    "    'preprocessor__numeric_preprocessing__fill_missings__strategy': ['mean', 'median'],\n",
    "    'preprocessor__numeric_preprocessing__polynomial_features__degree': [1,2],\n",
    "    'preprocessor__numeric_preprocessing__pca__n_components': [0.85,0.90],\n",
    "    'model__C': np.logspace(-2, 2, 10)\n",
    "}\n",
    "\n",
    "grid_search = GridSearchCV(model_pipeline_v1, params, cv=10, n_jobs=-1, verbose=10, scoring='f1_macro')\n",
    "grid_search.fit(X_val, y_val)\n",
    "print('Wybrane hiperparametry: ', grid_search.best_params_)\n",
    "model_v3 = grid_search.best_estimator_\n",
    "def metric(model,X_test):\n",
    "    predictions_test = model.predict(X_test)\n",
    "    f1_score_test=f1_score(y_test, predictions_test)\n",
    "    print(f\"F1_score_test: {f1_score_test}\")\n",
    "metric(model_v3, X_test)"
   ]
  },
  {
   "cell_type": "markdown",
   "id": "17525025",
   "metadata": {},
   "source": [
    "### The grid search results in a similar quality."
   ]
  }
 ],
 "metadata": {
  "kernelspec": {
   "display_name": "Python 3 (ipykernel)",
   "language": "python",
   "name": "python3"
  },
  "language_info": {
   "codemirror_mode": {
    "name": "ipython",
    "version": 3
   },
   "file_extension": ".py",
   "mimetype": "text/x-python",
   "name": "python",
   "nbconvert_exporter": "python",
   "pygments_lexer": "ipython3",
   "version": "3.11.7"
  }
 },
 "nbformat": 4,
 "nbformat_minor": 5
}
